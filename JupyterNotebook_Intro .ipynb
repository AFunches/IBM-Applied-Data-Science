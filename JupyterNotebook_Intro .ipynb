{
    "cells": [
        {
            "cell_type": "markdown",
            "metadata": {
                "collapsed": true
            },
            "source": "# My Jupyter Notebook on IBM Watson Studio"
        },
        {
            "cell_type": "markdown",
            "metadata": {},
            "source": "**Alex Funches** \\\nData Analyst"
        },
        {
            "cell_type": "markdown",
            "metadata": {},
            "source": "*I am interested in data science as I want to better learn how to use programming languages like Python and SQL to perform data analytics and be able to make recommendations based on the insights I discover*"
        },
        {
            "cell_type": "markdown",
            "metadata": {},
            "source": "### My code in Cell 5 is supposed to display the multiplication and division of an operation"
        },
        {
            "cell_type": "code",
            "execution_count": 2,
            "metadata": {},
            "outputs": [
                {
                    "data": {
                        "text/plain": "4.0"
                    },
                    "execution_count": 2,
                    "metadata": {},
                    "output_type": "execute_result"
                }
            ],
            "source": "2 * 6 / 3"
        },
        {
            "cell_type": "markdown",
            "metadata": {},
            "source": " `Below is code that compares the equality of two variables, x and y` \n***\nx = 2 \\\ny = 2 \\\nx == y \n***\n* Thanks for reviewing my Jupyter Notebook \n* Have a nice day "
        }
    ],
    "metadata": {
        "kernelspec": {
            "display_name": "Python 3.7",
            "language": "python",
            "name": "python3"
        },
        "language_info": {
            "codemirror_mode": {
                "name": "ipython",
                "version": 3
            },
            "file_extension": ".py",
            "mimetype": "text/x-python",
            "name": "python",
            "nbconvert_exporter": "python",
            "pygments_lexer": "ipython3",
            "version": "3.7.10"
        }
    },
    "nbformat": 4,
    "nbformat_minor": 1
}